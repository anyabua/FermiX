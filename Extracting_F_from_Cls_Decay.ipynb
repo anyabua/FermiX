{
 "cells": [
  {
   "cell_type": "code",
   "execution_count": 1,
   "id": "b607646d",
   "metadata": {},
   "outputs": [],
   "source": [
    "import numpy as np \n",
    "import matplotlib.pyplot as plt\n",
    "import sacc \n",
    "from scipy.stats import chi2 as chi2f\n",
    "import pyccl as ccl \n",
    "from scipy.interpolate import interp1d\n",
    "from matplotlib import rc\n",
    "rc('font', **{'family': 'sans-serif', 'sans-serif': ['Helvetica']})\n",
    "rc('text', usetex=True)"
   ]
  },
  {
   "cell_type": "markdown",
   "id": "e26ce689",
   "metadata": {},
   "source": [
    "# Extracting F measurements from $C_{\\ell}'s$\n",
    "\n",
    "The aim of this notebook is to demonstrate how the F measurements used to constrain $\\langle \\sigma v \\rangle$ and $\\Gamma$ can be extracted from our cross-correlation measurements $C_{\\ell}$. We follow the method outlined in Section II D 4 of the paper.\n",
    "We will show how this is done for the case of decay. \n",
    "\n",
    "We begin by reading some data:"
   ]
  },
  {
   "cell_type": "code",
   "execution_count": 2,
   "id": "62ce37b6",
   "metadata": {},
   "outputs": [
    {
     "name": "stderr",
     "output_type": "stream",
     "text": [
      "/mnt/zfsusers/anyabua/.local/lib/python3.6/site-packages/sacc/tracers.py:44: UserWarning: Unknown quantity intensity_map. If possible use a pre-defined quantity, or add to the list.\n",
      "  warnings.warn(f\"Unknown quantity {quantity}. \"\n"
     ]
    }
   ],
   "source": [
    "sa = sacc.Sacc.load_fits(\"anyas_fermi_x_galaxies_.fits\")\n",
    "sa.remove_selection(ell__gt=2048)\n",
    "sa.remove_selection(ell__lt=30)\n",
    "\n",
    "num_gal = 6\n",
    "num_gam = 12\n",
    "\n",
    "# Calculate number of ells\n",
    "ells, _ = sa.get_ell_cl('cl_00', 'gal0', 'gam0')\n",
    "num_ell = len(ells)\n",
    "\n",
    "#Store the ells\n",
    "store_ell = np.zeros(24)\n",
    "for i,ell in enumerate(ells):\n",
    "    val_ell =float('%.3f'%(ell))\n",
    "    store_ell[i] = val_ell\n",
    "\n",
    "# Calculate number of redshifts\n",
    "zs = sa.tracers['gal5'].z\n",
    "num_z = len(zs)\n",
    "\n",
    "#Calculating the mean redshift of each bin\n",
    "zmeans = []\n",
    "for igal in range(num_gal):\n",
    "    t = sa.tracers[f'gal{igal}']\n",
    "    zmeans.append(np.average(t.z, weights=t.nz))\n",
    "\n",
    "# Resample first redshift bin at the same redshifts as the rest\n",
    "nz0_i = interp1d(sa.tracers['gal0'].z, sa.tracers['gal0'].nz, bounds_error=False, fill_value=0)\n",
    "sa.tracers['gal0'].z = zs\n",
    "sa.tracers['gal0'].nz = nz0_i(zs)\n",
    "\n",
    "# Extract beams\n",
    "goodl = [ell in store_ell for ell in sa.tracers['gam0'].ell]\n",
    "beams = {f'gam{igam}': sa.tracers[f'gam{igam}'].beam[goodl]\n",
    "         for igam in range(num_gam)}"
   ]
  },
  {
   "cell_type": "markdown",
   "id": "e403c0d1",
   "metadata": {},
   "source": [
    "# 1. Then we create the window function:\n",
    "\n",
    "Refer to Eq. 36 in the paper. \n",
    "\n",
    "The window function is given by:\n",
    "    \n",
    "$$W_{i,n}(z) \\equiv\\frac{1}{E_{i+1}-E_i}\\int_{E_i(1+z)}^{E_{i+1}(1+z)}d\\epsilon\\,\\Theta(\\epsilon_n<\\epsilon<\\epsilon_{n+1})\n",
    "$$\n",
    "\n",
    "Which is equal to \n",
    "\n",
    "$$W_{i,n}(z) = \\frac{\\text{Min}[E_{i+1}(1+z),\\epsilon_{n+1}]-\\text{Max}[E_{i}(1+z),\\epsilon_{n}]}{E_{i+1}-E_{i}}\\times\\Theta(\\epsilon_{n+1}>E_{i}(1+z))\\times\\Theta(\\epsilon_{n}<E_{i+1}(1+z)).$$\n",
    "\n",
    "Here, the raw measurements of $C_{\\ell}$ has units ${\\rm cm}^{-2}s^{-1}$. So to match the units up, we multiply through by the energy:\n",
    "\n",
    "$$W_{i,n}(z) = (\\text{Min}[E_{i+1}(1+z),\\epsilon_{n+1}]-\\text{Max}[E_{i}(1+z),\\epsilon_{n}])\\times\\Theta(\\epsilon_{n+1}>E_{i}(1+z))\\times\\Theta(\\epsilon_{n}<E_{i+1}(1+z)).$$\n",
    "\n",
    "This will only affect the units we'd like F to be in. "
   ]
  },
  {
   "cell_type": "code",
   "execution_count": 3,
   "id": "3c6aed45",
   "metadata": {},
   "outputs": [],
   "source": [
    "# Energy ranges in GeV\n",
    "E_obs = np.array([5.24807460e+02, 1.00000000e+03, 1.73780083e+03, 3.01995172e+03,\n",
    "                  5.24807460e+03, 8.31763771e+03, 1.58489319e+04, 2.29086765e+04,\n",
    "                  3.98107171e+04, 7.58577575e+04, 1.20226443e+05, 3.31131121e+05,\n",
    "                  1.00000000e+06])*1E-3\n",
    "# Rest-frame\n",
    "E_emt = E_obs[:, None]*(1+zs[None, :])\n",
    "num_E = len(E_obs)-1\n",
    "assert num_E == num_gam\n",
    "windows = np.zeros([num_E, num_gam, num_z])\n",
    "\n",
    "for n in range(num_E):\n",
    "    for i in range(num_gam):\n",
    "        E_n = E_obs[n]\n",
    "        E_i = E_obs[i]\n",
    "        E_i_oneplusz = E_emt[i]\n",
    "        E_np = E_obs[n+1]\n",
    "        E_ip = E_obs[i+1]\n",
    "        E_ip_oneplusz = E_emt[i+1]\n",
    "        Emin = np.minimum(E_ip_oneplusz, E_np)\n",
    "        Emax = np.maximum(E_i_oneplusz, E_n)\n",
    "        good_n = E_ip_oneplusz > E_n\n",
    "        good_np = E_i_oneplusz < E_np\n",
    "        win = (Emin-Emax)*good_n*good_np\n",
    "        windows[n, i, :] = win"
   ]
  },
  {
   "cell_type": "code",
   "execution_count": 4,
   "id": "7953540a",
   "metadata": {},
   "outputs": [],
   "source": [
    "#Units are in GeV\n",
    "Eeff = np.array([  0.70608114, 1.29359873, 2.24801694, 3.9066057, 6.52075968, 11.19063184, \n",
    "                 18.89501006, 29.63463478, 53.5617316,94.25365366, 187.36854987,534.05806527])"
   ]
  },
  {
   "cell_type": "markdown",
   "id": "68301881",
   "metadata": {},
   "source": [
    "# 2. Get $P(k)$ and theoretical $C_{\\ell}$ templates\n",
    "\n",
    "First we get the decay profile: $(1 + \\delta)$. This is simply the NFW profile contained in pyccl. "
   ]
  },
  {
   "cell_type": "code",
   "execution_count": 6,
   "id": "8b213ad0",
   "metadata": {},
   "outputs": [],
   "source": [
    "cosmo = ccl.Cosmology(Omega_c=0.27, Omega_b=0.045, h=0.67, sigma8=0.83, n_s=0.96) #need to make a K(z) function\n",
    "k_arr = np.geomspace(1e-4,100,256)\n",
    "a = 1./(1+zs)\n",
    "a_arr = a[::-1]\n",
    "chi = ccl.comoving_radial_distance(cosmo,a_arr)[::-1]\n",
    "\n",
    "# We will use a mass definition with Delta = 200 times the critical density\n",
    "hmd_200c = ccl.halos.MassDef200c() \n",
    "# The Duffy 2008 concentration-mass relation\n",
    "cM = ccl.halos.ConcentrationDuffy08(hmd_200c)\n",
    "# The Tinker 2008 mass function\n",
    "nM = ccl.halos.MassFuncTinker08(cosmo, mass_def=hmd_200c)\n",
    "# The Tinker 2010 halo bias\n",
    "bM = ccl.halos.HaloBiasTinker10(cosmo, mass_def=hmd_200c)\n",
    "# The NFW profile to characterize the matter density around halos\n",
    "pM = ccl.halos.profiles.HaloProfileNFW(cM)\n",
    "# Halo model calculator\n",
    "hmc = ccl.halos.HMCalculator(cosmo, nM, bM, hmd_200c)\n",
    "pk_MDM = ccl.halos.halomod_Pk2D(cosmo, hmc, pM, prof2=pM,\n",
    "                                 normprof1=True, normprof2=True,\n",
    "                                 lk_arr=np.log(k_arr), a_arr=a_arr)\n",
    "\n",
    "bias = np.array([1.182,1.086,1.126,1.144,1.206,1.548])\n",
    "\n",
    "# This is density in M_sun/Mpc^3\n",
    "rho_x = ccl.background.rho_x(cosmo, 1, 'matter',\n",
    "                             is_comoving = True)\n",
    "C = rho_x/(4*np.pi*(1+zs))\n",
    "\n",
    "tgal = []\n",
    "for gal in range(0,6):\n",
    "    tr = sa.tracers[f'gal{gal}']\n",
    "    t = ccl.NumberCountsTracer(cosmo, has_rsd = False,\n",
    "                               dndz=(tr.z, tr.nz),\n",
    "                               bias=(tr.z, np.full_like(tr.z, bias[gal])))\n",
    "    tgal.append(t)\n",
    "\n",
    "# C_ell will have units of M_sun*GeV/Mpc^2\n",
    "cl_th = np.zeros([num_gal, num_E, num_gam, num_ell])\n",
    "for ig, g in enumerate(tgal):\n",
    "    for n in range(num_E):\n",
    "        for i in range(num_gam):\n",
    "            GRB_tracer = ccl.Tracer()\n",
    "            GRB_tracer.add_tracer(cosmo, kernel=(chi, C*windows[n, i]))\n",
    "            cl_theoretical = ccl.angular_cl(cosmo, g, GRB_tracer, ells, p_of_k_a= pk_MDM)\n",
    "            cl_th[ig, n, i, :] = cl_theoretical*beams[f'gam{i}']\n",
    "            \n"
   ]
  },
  {
   "cell_type": "markdown",
   "id": "5e98be0e",
   "metadata": {},
   "source": [
    "# 3. Measure F!\n",
    "For this, we do:\n",
    "$$\n",
    "{\\bf F}={\\sf C}_F\\,{\\bf A}\n",
    "$$\n",
    "With\n",
    "$$\n",
    "({\\sf C}_F^{-1})_{mn}=\\sum_{gi\\ell}\\sum_{g'i'\\ell'}C_\\ell^{g,in}({\\rm Cov}^{-1})_{(gi\\ell),(g'i'\\ell')}C_{\\ell'}^{g',i'm}\n",
    "$$\n",
    "and\n",
    "$$\n",
    "A_n=\\sum_{gi\\ell}\\sum_{g'i'\\ell'}C_\\ell^{g,in}({\\rm Cov}^{-1})_{(gi\\ell),(g'i'\\ell')}\\hat{C}_{\\ell'}^{g'i'}\n",
    "$$\n",
    "Note that ${\\sf C}_F$ also happens to be the covariance of ${\\bf F}$.\n",
    "\n",
    "Here $\\hat{C}_\\ell^{gi}$ is the data $g-i$ cross-correlation, and $C^{g,in}_\\ell$ is the theoretical template for galaxy sample $g$ and window function $W_{n,i}(z)$.\n",
    "\n",
    "At the end we multiply the result by $8.53323018\\times10^{-9}$ to convert $F$ from ${\\rm cm}^{-1}{\\rm s}^{-1}{\\rm Mpc}^2 M_\\odot^{-1}\\,{\\rm GeV}$ to ${\\rm s}^{-1}\\,{\\rm GeV}^{-2}$."
   ]
  },
  {
   "cell_type": "code",
   "execution_count": 17,
   "id": "fca92bcf",
   "metadata": {},
   "outputs": [],
   "source": [
    "def get_F(gals):\n",
    "    prefac = 8.53323018E-9\n",
    "    ngal = len(gals)\n",
    "    gams = range(num_gam)\n",
    "\n",
    "    # Get indices\n",
    "    indices = []\n",
    "    cl_data = []\n",
    "    for igal, gal in enumerate(gals):\n",
    "        indices.append([])\n",
    "        cl_data.append([])\n",
    "        for gam in gams:\n",
    "            _, cl, ind = sa.get_ell_cl('cl_00', f'gal{gal}', f'gam{gam}', return_ind=True)\n",
    "            indices[igal].append(ind)\n",
    "            cl_data[igal].append(cl)\n",
    "    indices = np.array(indices)\n",
    "    cl_data = np.array(cl_data)\n",
    "\n",
    "    # Get theory C_ells\n",
    "    # Shape: [ngal, n_n, n_i, ell]\n",
    "    cl_theory = np.array([cl_th[ig] for ig in gals])\n",
    "    # Shape: [n_n, ngal, n_i, ell]\n",
    "    cl_theory = np.transpose(cl_theory, axes=[1, 0, 2, 3])\n",
    "\n",
    "    # Flatten all relevant dimensions\n",
    "    cl_data = cl_data.flatten()\n",
    "    indices = indices.flatten()\n",
    "    cl_theory = cl_theory.reshape([num_E, -1])\n",
    "    \n",
    "    # Construct covariance\n",
    "    cv = sa.covariance.covmat.copy()\n",
    "    cv = cv[indices][:, indices]\n",
    "\n",
    "    # Q matrix\n",
    "    # Cov^-1 C_th\n",
    "    iC_th = np.array([np.linalg.solve(cv, th)\n",
    "                      for th in cl_theory])\n",
    "    # C_th^T Cov^-1 C_th\n",
    "    Q = np.sum(cl_theory[:, None, :]*iC_th[None, :, :], axis=-1)\n",
    "\n",
    "    # A vector\n",
    "    # C_th^T Cov^-1 d\n",
    "    A = np.dot(cl_theory, np.linalg.solve(cv, cl_data))\n",
    "\n",
    "    # F = Q^-1 F\n",
    "    cov_F = np.linalg.inv(Q)\n",
    "    F = np.dot(cov_F, A)\n",
    "    \n",
    "    # Prefactors\n",
    "    F *= prefac\n",
    "    cov_F *= prefac**2\n",
    "\n",
    "    return F, cov_F"
   ]
  },
  {
   "cell_type": "markdown",
   "id": "69f3e82e",
   "metadata": {},
   "source": [
    "We can now get the F's and store them."
   ]
  },
  {
   "cell_type": "code",
   "execution_count": 18,
   "id": "f3b93d99",
   "metadata": {},
   "outputs": [],
   "source": [
    "res_F = {f'gal{i}': get_F([i]) for i in range(6)}\n",
    "res_F ['total'] = get_F(range(6))"
   ]
  },
  {
   "cell_type": "markdown",
   "id": "647af5c5",
   "metadata": {},
   "source": [
    "# Saving"
   ]
  },
  {
   "cell_type": "code",
   "execution_count": 19,
   "id": "c1bc3378",
   "metadata": {},
   "outputs": [],
   "source": [
    "F_units = ['cm^-3 GeV^-3 s^-1']\n",
    "Energy_units = ['GeV']\n",
    "\n",
    "Fsave = np.array([v[0] for k, v in res_F.items()])\n",
    "covFsave = np.array([v[1] for k, v in res_F.items()])\n",
    "names = [k for k, v in res_F.items()]\n",
    "np.savez(\"F_decay.npz\", names=names, F=Fsave, covF=covFsave, Eeff = Eeff, z_mean = zmeans, F_units = F_units,\n",
    "        Energy_units = Energy_units)"
   ]
  },
  {
   "cell_type": "code",
   "execution_count": null,
   "id": "c88c22ed",
   "metadata": {},
   "outputs": [],
   "source": []
  }
 ],
 "metadata": {
  "kernelspec": {
   "display_name": "Python 3",
   "language": "python",
   "name": "python3"
  },
  "language_info": {
   "codemirror_mode": {
    "name": "ipython",
    "version": 3
   },
   "file_extension": ".py",
   "mimetype": "text/x-python",
   "name": "python",
   "nbconvert_exporter": "python",
   "pygments_lexer": "ipython3",
   "version": "3.6.9"
  }
 },
 "nbformat": 4,
 "nbformat_minor": 5
}
