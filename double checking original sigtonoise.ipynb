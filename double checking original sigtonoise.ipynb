{
 "cells": [
  {
   "cell_type": "code",
   "execution_count": 1,
   "id": "e2f773a6",
   "metadata": {},
   "outputs": [],
   "source": [
    "import matplotlib.pyplot as plt\n",
    "import numpy as np \n",
    "import pyccl as ccl\n",
    "import os.path \n",
    "import math\n",
    "from os.path import exists as file_exists\n",
    "import scipy.special"
   ]
  },
  {
   "cell_type": "code",
   "execution_count": 2,
   "id": "d3f0a53c",
   "metadata": {},
   "outputs": [],
   "source": [
    "choose_file = []\n",
    "for i in range(0,6):\n",
    "    for j in range(0,12):\n",
    "        for filename in os.listdir('/mnt/zfsusers/anyabua/FermiX'):\n",
    "            if filename == \"W_galagam_\" + str(i)+\"x\"+str(j)+\".npz\":\n",
    "                choose_file.append(str(filename))\n",
    "data_files = np.reshape(choose_file,(6,12))\n",
    "\n",
    "ells = np.load(data_files[0][0])['ells']\n",
    "all_jackerrors = {f'jkerr{gal}x{gam}': np.squeeze(np.load(data_files[gal][gam])['jack_error']) for gal in range(6) for gam in range(12)} \n",
    "all_pcl = {f'galaxy x gamma:{gal}x{gam}': np.squeeze(np.load(data_files[gal][gam])['PCL_fskydivided']) for gal in range(6) for gam in range(12)} \n",
    "all_bpw = {f'bpw{gal}x{gam}': np.load(data_files[gal][gam])['bpw'] for gal in range(6) for gam in range(12)} \n",
    "all_JKCL = {f'JKCL{gal}x{gam}': np.load(data_files[gal][gam])['JKCL'] for gal in range(6) for gam in range(12)}"
   ]
  },
  {
   "cell_type": "code",
   "execution_count": 3,
   "id": "6e6e00f5",
   "metadata": {},
   "outputs": [
    {
     "name": "stdout",
     "output_type": "stream",
     "text": [
      "(6, 150)\n"
     ]
    }
   ],
   "source": [
    "z = {}\n",
    "dndz = {}\n",
    "for gal in range(0,6):\n",
    "    z[f'{gal}'], dndz[f'{gal}'] = np.loadtxt(f\"dndz_bin{gal}.txt\", unpack=True)\n",
    "    \n",
    "# ____________________________________________________PRELIMINARIES__________________________________________________________#\n",
    "cosmo = ccl.Cosmology(Omega_c=0.27, Omega_b=0.045, h=0.67, sigma8=0.83, n_s=0.96)\n",
    "\n",
    "k_arr = np.geomspace(1e-4,100,256) # no of k arr was originally 256\n",
    "a = 1./(1+z['3']) \n",
    "a_arr = a[::-1]\n",
    "chi = ccl.comoving_radial_distance(cosmo,a_arr)\n",
    "\n",
    "Chi = np.zeros((6,150))\n",
    "for i in range(6):\n",
    "    Chi[i] = chi\n",
    "print(Chi.shape)\n",
    "    \n",
    "# We will use a mass definition with Delta = 200 times the matter density\n",
    "hmd_200c = ccl.halos.MassDef200c() \n",
    "\n",
    "# The Duffy 2008 concentration-mass relation\n",
    "cM = ccl.halos.ConcentrationDuffy08(hmd_200c)\n",
    "\n",
    "# The Tinker 2008 mass function\n",
    "nM = ccl.halos.MassFuncTinker08(cosmo, mass_def=hmd_200c)\n",
    "\n",
    "# The Tinker 2010 halo bias\n",
    "bM = ccl.halos.HaloBiasTinker10(cosmo, mass_def=hmd_200c)\n",
    "    \n",
    "# The NFW profile to characterize the matter density around halos\n",
    "pM = ccl.halos.profiles.HaloProfileNFW(cM)\n",
    "\n",
    "hmc = ccl.halos.HMCalculator(cosmo, nM, bM, hmd_200c)\n",
    "\n",
    "pk_MxMf = ccl.halos.halomod_Pk2D(cosmo, hmc, pM, prof2=pM,\n",
    "                                 normprof1=True, normprof2=True,\n",
    "                                 lk_arr=np.log(k_arr), a_arr=a_arr)\n",
    "    "
   ]
  },
  {
   "cell_type": "markdown",
   "id": "4253c721",
   "metadata": {},
   "source": [
    "# Signal-to-noise for Decay "
   ]
  },
  {
   "cell_type": "code",
   "execution_count": 4,
   "id": "3d95c06f",
   "metadata": {},
   "outputs": [
    {
     "name": "stdout",
     "output_type": "stream",
     "text": [
      "[0.01636852 0.00990178 0.00625236 0.00447796 0.00336166 0.00267134\n",
      " 0.00218979 0.00184475 0.00156475 0.00133392 0.00114569 0.00098985\n",
      " 0.00085957 0.00075016 0.00065643 0.00057531 0.00050403 0.00044074\n",
      " 0.00038412 0.00033298 0.00028678 0.00024513 0.0002077  0.00017437]\n",
      "[0.01683376 0.01014314 0.00628304 0.00438156 0.00317982 0.00243827\n",
      " 0.00192418 0.0015604  0.00126997 0.00103635 0.00085208 0.00070601\n",
      " 0.00059049 0.00049979 0.00042793 0.00037081 0.00032479 0.00028704\n",
      " 0.00025535 0.00022778 0.00020309 0.00018033 0.00015889 0.00013851]\n"
     ]
    }
   ],
   "source": [
    "# ___________________________________galaxy_tracer____________________________________________________________________________#\n",
    "\n",
    "t_g = []\n",
    "for gal in range(0,6):\n",
    "    t_gal = ccl.NumberCountsTracer(cosmo, has_rsd = False, dndz=(z[f'{gal}'],dndz[f'{gal}']), bias=(z[f'{gal}'], np.ones_like(z[f'{gal}'])))\n",
    "    t_g.append(t_gal)\n",
    "    \n",
    "galtracer = np.array(t_g)\n",
    "\n",
    "\n",
    "### gamma ray \n",
    "\n",
    "def try_kernel(alpha,z):\n",
    "        kernel = (1+z)**alpha\n",
    "        return np.array(kernel)\n",
    "    \n",
    "    \n",
    "kernel_alpha0 = np.zeros((2,6,150))\n",
    "for gal in range(1,6):\n",
    "    kernel_alpha0[0,gal] = chi\n",
    "    kernel_alpha0[1,0,:100] = try_kernel(0,z['0'])\n",
    "    kernel_alpha0[1,gal] = try_kernel(0,z[f'{gal}'])\n",
    "    \n",
    "for gal in range(6):\n",
    "    GRB_tracer = ccl.Tracer()\n",
    "    GRB_tracer.add_tracer(cosmo, kernel= (kernel_alpha0[0,gal],kernel_alpha0[1,gal]))\n",
    "    cl_theory0 = ccl.angular_cl(cosmo, GRB_tracer , t_gal, ells, p_of_k_a = None) # for alpha = 0 \n",
    "    cl_theorycheck0 = ccl.angular_cl(cosmo,GRB_tracer, t_gal, ells, p_of_k_a = pk_MxMf)\n",
    "    \n",
    "\n",
    "print(cl_theory0)\n",
    "print(cl_theorycheck0)\n"
   ]
  },
  {
   "cell_type": "code",
   "execution_count": 5,
   "id": "2d778ae7",
   "metadata": {},
   "outputs": [
    {
     "name": "stdout",
     "output_type": "stream",
     "text": [
      "(24,)\n",
      "[0.01683376 0.01014314 0.00628304 0.00438156 0.00317982 0.00243827\n",
      " 0.00192418 0.0015604  0.00126997 0.00103635 0.00085208 0.00070601\n",
      " 0.00059049 0.00049979 0.00042793 0.00037081 0.00032479 0.00028704\n",
      " 0.00025535 0.00022778 0.00020309 0.00018033 0.00015889 0.00013851]\n"
     ]
    }
   ],
   "source": [
    "kernel_alpha1 = np.zeros((2,6,150))\n",
    "for gal in range(1,6):\n",
    "    kernel_alpha1[0,gal] = chi\n",
    "    kernel_alpha1[1,0,:100] = try_kernel(-1,z['0'])\n",
    "    kernel_alpha1[1,gal] = try_kernel(-1,z[f'{gal}'])\n",
    "\n",
    "for gal in range(6):\n",
    "    GRB_tracer = ccl.Tracer()\n",
    "    GRB_tracer.add_tracer(cosmo, kernel= (kernel_alpha1[0,gal],kernel_alpha1[1,gal]))\n",
    "    cl_theory1 = ccl.angular_cl(cosmo, GRB_tracer , t_gal, ells, p_of_k_a = None) \n",
    "    cl_theorycheck1 = ccl.angular_cl(cosmo, GRB_tracer, t_gal, ells, p_of_k_a = pk_MxMf)\n",
    "\n",
    "print(cl_theory1.shape)\n",
    "print(cl_theorycheck1)"
   ]
  },
  {
   "cell_type": "code",
   "execution_count": 6,
   "id": "e5ea4554",
   "metadata": {},
   "outputs": [
    {
     "name": "stdout",
     "output_type": "stream",
     "text": [
      "shape of jk err: (6, 12, 24)\n",
      "shape of cl dat: (6, 12, 24)\n",
      "-0.9287069542813094\n",
      "-1.3915559668527255\n",
      "-0.7516915078769143\n",
      "-2.2424432568334356\n",
      "-0.7040737046467351\n",
      "-0.35817516244532327\n"
     ]
    }
   ],
   "source": [
    "jkerr = np.array([[all_jackerrors[f'jkerr{g}x{i}'] for i in range(12)] for g in range(6)])\n",
    "cl_data = np.array([[all_pcl[f'galaxy x gamma:{g}x{i}'] for i in range(12)] for g in range(6)])\n",
    "print('shape of jk err: ' + str(jkerr.shape))\n",
    "print('shape of cl dat: ' + str(cl_data.shape))\n",
    "\n",
    "#for alpha = -1\n",
    "cl_th1 = np.zeros((6,12,24))\n",
    "for i in range(6):\n",
    "    for j in range(12):\n",
    "        cl_th1[i,j] = cl_theory1\n",
    "\n",
    "s_squared = 1/np.sum((cl_th1/jkerr)**2, axis = 2)\n",
    "s = np.sqrt(s_squared)\n",
    "A = np.sum((cl_th1*cl_data)/(jkerr**2), axis = 2)\n",
    "sig = A*s_squared\n",
    "sig_to_noise_alpha1_dec= sig/s\n",
    "\n",
    "for i in range(6):\n",
    "    print(min(sig_to_noise_alpha1_dec[i]))"
   ]
  },
  {
   "cell_type": "markdown",
   "id": "1fa140fa",
   "metadata": {},
   "source": [
    "# Signal-to-noise for Annihilation"
   ]
  },
  {
   "cell_type": "code",
   "execution_count": 7,
   "id": "f5a277b4",
   "metadata": {},
   "outputs": [],
   "source": [
    "from scipy.special import sici\n",
    "#Creating a Halo profile that describes Dark matter annihilation in k-space. The DarkMatterAnnihilationProfile is the Fourier\n",
    "#transform of the NFW profile squared. This is then used to compute the Pk2D(Matter x Dark Matter Annihilation) \n",
    "#and compared with the Pk2D (Matter x Matter) obtained from just the standard NFW profile (also in k-space). \n",
    "#These are the two competing models for that data points.\n",
    "\n",
    "#the rho^1 is for decay \n",
    "#the rho^2 is for annihilation\n",
    "\n",
    "class DarkMatterAnnihilationProfile(ccl.halos.HaloProfile):\n",
    "    def __init__(self,c_M_relation):\n",
    "        self.cM = c_M_relation\n",
    "        super().__init__()\n",
    "        \n",
    "    def _get_cM(self, cosmo, M, a, mdef=None):\n",
    "        return self.cM.get_concentration(cosmo, M, a, mdef_other = mdef)\n",
    "    \n",
    "    def _fourier(self, cosmo, k , M , a , mass_def):\n",
    "        M_use = np.atleast_1d(M)\n",
    "        k_use = np.atleast_1d(k)\n",
    "    \n",
    "        \n",
    "        R_M = mass_def.get_radius(cosmo, M_use, a) / a #comoving virial radius\n",
    "        c_M =self._get_cM(cosmo,M_use,a,mass_def)\n",
    "    \n",
    "        R_s = R_M / c_M\n",
    "        rho0 = M_use / (4 * np.pi * R_s**3)\n",
    "\n",
    "        q = k_use[None, :] * R_s[:, None]\n",
    "        \n",
    "        \n",
    "        Si_q, Ci_q = sici(q)\n",
    "        P1 = M_use / (np.log(1 + c_M) - c_M/ (1 + c_M))\n",
    "        c_M = c_M[:, None]\n",
    "        Si_oneplusc, Ci_oneplusc = sici((1 + c_M) * q)\n",
    "        Si_qc, Ci_qc = sici(q*c_M)\n",
    "        \n",
    "        A = (rho0 * P1)[:, None] / q\n",
    "        \n",
    "        Si1 = Si_oneplusc - Si_q\n",
    "        Ci1 = Ci_oneplusc - Ci_q\n",
    "        \n",
    "        q_half = (1-(q**2)/2)\n",
    "        q_sixth = (q-(q**3)/6)\n",
    "        \n",
    "        Si_term = Si1*(q_half*np.cos(q)+ q_sixth*np.sin(q))\n",
    "        Ci_term = Ci1*(q_half*np.sin(q)-q_sixth*np.cos(q))\n",
    "        \n",
    "        sin_term = np.sin(q*c_M)*((6*(1 + c_M)**2 + 5 + 3*c_M - (q**2)*(1+c_M)**2)/(6*(1 + c_M)**3))\n",
    "        cos_term = q*np.cos(q*c_M)*(4 + 3*c_M)/(6*(1 + c_M)**2)\n",
    "      \n",
    "        prof = A*(Si_qc - Si_term + Ci_term - 2*q/3 + sin_term + cos_term)\n",
    "     \n",
    "        \n",
    "        if np.ndim(k) == 0:\n",
    "            prof = np.squeeze(prof, axis=-1)\n",
    "        if np.ndim(M) == 0:\n",
    "            prof = np.squeeze(prof, axis=0)\n",
    "    \n",
    "        return prof\n",
    "        \n",
    "                           \n",
    "\n",
    "pDM = DarkMatterAnnihilationProfile(cM)\n",
    "\n",
    "\n",
    "pk_DMxMf = ccl.halos.halomod_Pk2D(cosmo, hmc, pDM, prof2=pM,\n",
    "                                  normprof1=True, normprof2=True,\n",
    "                                  lk_arr=np.log(k_arr), a_arr=a_arr)"
   ]
  },
  {
   "cell_type": "code",
   "execution_count": 8,
   "id": "c583ae55",
   "metadata": {},
   "outputs": [
    {
     "name": "stdout",
     "output_type": "stream",
     "text": [
      "-0.9498781035060943\n",
      "-1.7515257686817955\n",
      "-1.1062168846317637\n",
      "-1.820899331982162\n",
      "-0.196229827215314\n",
      "-1.0066234451275584\n"
     ]
    }
   ],
   "source": [
    "#alpha = -1\n",
    "for gal in range(6):\n",
    "    GRB_tracer = ccl.Tracer()\n",
    "    GRB_tracer.add_tracer(cosmo, kernel= (kernel_alpha1[0,gal],kernel_alpha1[1,gal])) \n",
    "    cl_theory1_ann = ccl.angular_cl(cosmo, GRB_tracer, t_gal, ells, p_of_k_a = pk_DMxMf)\n",
    "    \n",
    "cl_th1_ann = np.zeros((6,12,24))\n",
    "for i in range(6):\n",
    "    for j in range(12):\n",
    "        cl_th1_ann[i,j] = cl_theory1_ann\n",
    "\n",
    "s_squared_ann = 1/np.sum((cl_th1_ann/jkerr)**2, axis = 2)\n",
    "s_ann = np.sqrt(s_squared_ann)\n",
    "A_ann = np.sum((cl_th1_ann*cl_data)/(jkerr**2), axis = 2)\n",
    "sig_ann = A_ann*s_squared_ann\n",
    "sig_to_noise_alpha1_ann = sig_ann/s_ann\n",
    "\n",
    "for i in range(6):\n",
    "    print(min(sig_to_noise_alpha1_ann[i]))"
   ]
  },
  {
   "cell_type": "code",
   "execution_count": 9,
   "id": "4e5a25a6",
   "metadata": {},
   "outputs": [
    {
     "data": {
      "image/png": "[encoded data removed]",
      "text/plain": [
       "<matplotlib.figure.Figure at 0x7f95fcb2a9e8>"
      ]
     },
     "metadata": {
      "needs_background": "light"
     },
     "output_type": "display_data"
    }
   ],
   "source": [
    "fig, axes = plt.subplots(2, figsize=(10, 7))\n",
    "to_plot = [sig_to_noise_alpha1_ann,sig_to_noise_alpha1_dec]\n",
    "titles = ['Annihilation', 'Decay']\n",
    "for i in range(2):\n",
    "    ax = axes[i]\n",
    "    im = ax.imshow(to_plot[i])\n",
    "    plt.colorbar(im,ax=ax)\n",
    "    im.set_clim(vmin = -2.5, vmax= 4.5)\n",
    "    ax.set_title(titles[i])\n",
    "plt.savefig('newsigtonoise.jpg')"
   ]
  },
  {
   "cell_type": "code",
   "execution_count": 11,
   "id": "8f204fb3",
   "metadata": {},
   "outputs": [
    {
     "data": {
      "image/png": "[encoded data removed]",
      "text/plain": [
       "<matplotlib.figure.Figure at 0x7f95f94c17b8>"
      ]
     },
     "metadata": {
      "needs_background": "light"
     },
     "output_type": "display_data"
    }
   ],
   "source": [
    "#For the gamma x galaxy with the highest sigma (4sigma) # \n",
    "\n",
    "all_pcl_4sigma = all_pcl['galaxy x gamma:4x4']\n",
    "plt.errorbar(ells,all_pcl_4sigma, yerr = all_jackerrors['jkerr4x4'], fmt = 'k.')\n",
    "plt.errorbar(ells, -all_pcl_4sigma, yerr = all_jackerrors['jkerr4x4'], fmt = 'r.')\n",
    "plt.plot(ells, cl_th1_ann[4,4]*sig_ann[4,4], 'g-', label = 'Dark Matter Annihilation')\n",
    "plt.plot(ells, cl_th1[4,4]*sig[4,4], 'b-', label = 'Dark Matter Decay')\n",
    "plt.legend()\n",
    "plt.xlabel('$\\ell$', fontsize =15)\n",
    "plt.ylabel('$C_{\\ell}$', fontsize = 15)\n",
    "plt.loglog()\n",
    "plt.savefig('4x4clplotfixed.jpg')"
   ]
  },
  {
   "cell_type": "code",
   "execution_count": null,
   "id": "ad475d96",
   "metadata": {},
   "outputs": [],
   "source": []
  },
  {
   "cell_type": "code",
   "execution_count": null,
   "id": "c87ecc70",
   "metadata": {},
   "outputs": [],
   "source": []
  }
 ],
 "metadata": {
  "kernelspec": {
   "display_name": "Python 3",
   "language": "python",
   "name": "python3"
  },
  "language_info": {
   "codemirror_mode": {
    "name": "ipython",
    "version": 3
   },
   "file_extension": ".py",
   "mimetype": "text/x-python",
   "name": "python",
   "nbconvert_exporter": "python",
   "pygments_lexer": "ipython3",
   "version": "3.6.9"
  }
 },
 "nbformat": 4,
 "nbformat_minor": 5
}
