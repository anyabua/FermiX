{
 "cells": [
  {
   "cell_type": "code",
   "execution_count": null,
   "id": "0251ab14",
   "metadata": {},
   "outputs": [],
   "source": [
    "import matplotlib.pyplot as plt\n",
    "import numpy as np \n",
    "import pyccl as ccl\n",
    "import os.path \n",
    "import math\n",
    "from os.path import exists as file_exists"
   ]
  },
  {
   "cell_type": "code",
   "execution_count": null,
   "id": "fb7e9f8b",
   "metadata": {},
   "outputs": [],
   "source": [
    "choose_file = []\n",
    "for i in range(0,6):\n",
    "    for j in range(0,12):\n",
    "        for filename in os.listdir('/mnt/zfsusers/anyabua/FermiX'):\n",
    "            if filename == \"W_galagam_\" + str(i)+\"x\"+str(j)+\".npz\":\n",
    "                choose_file.append(str(filename))\n",
    "data_files = np.reshape(choose_file,(6,12))\n",
    "\n",
    "ells = np.load(data_files[0][0])['ells']\n",
    "all_jackerrors = {f'jkerr{gal}x{gam}': np.squeeze(np.load(data_files[gal][gam])['jack_error']) for gal in range(6) for gam in range(12)} \n",
    "all_pcl = {f'galaxy x gamma:{gal}x{gam}': np.squeeze(np.load(data_files[gal][gam])['PCL_fskydivided']) for gal in range(6) for gam in range(12)} \n",
    "all_bpw = {f'bpw{gal}x{gam}': np.load(data_files[gal][gam])['bpw'] for gal in range(6) for gam in range(12)} \n",
    "all_JKCL = {f'JKCL{gal}x{gam}': np.load(data_files[gal][gam])['JKCL'] for gal in range(6) for gam in range(12)}"
   ]
  },
  {
   "cell_type": "code",
   "execution_count": null,
   "id": "ad2699c8",
   "metadata": {},
   "outputs": [],
   "source": [
    "z = {}\n",
    "dndz = {}\n",
    "for gal in range(0,6):\n",
    "    z[f'{gal}'], dndz[f'{gal}'] = np.loadtxt(f\"dndz_bin{gal}.txt\", unpack=True)"
   ]
  },
  {
   "cell_type": "code",
   "execution_count": null,
   "id": "f3950275",
   "metadata": {},
   "outputs": [],
   "source": [
    "Edges = np.array([5.24807460e+02, 1.00000000e+03, 1.73780083e+03, 3.01995172e+03,\n",
    " 5.24807460e+03, 8.31763771e+03, 1.58489319e+04, 2.29086765e+04,\n",
    " 3.98107171e+04, 7.58577575e+04, 1.20226443e+05, 3.31131121e+05,\n",
    " 1.00000000e+06])\n",
    "\n",
    "def heaviside(x,y):\n",
    "    return 1*(x>y)\n",
    "\n",
    "z_4test = np.ones((150))\n",
    "\n",
    "redshifted1 = np.zeros((13,150))\n",
    "for i in range(13):\n",
    "    redshifted1[i] = Edges[i]/(1+z['3']) #z_4test \n",
    "\n",
    "\n",
    "#redshifted is now an array of an array of redshifted energies, where the dimension of \n",
    "#the array within the array is equal to the 13xdim(z) where 13 corresponds to the 13 energy edges. \n",
    "\n",
    "windows = []\n",
    "\n",
    "for n in range(12):\n",
    "    for i in range(12):\n",
    "        for k in range(150):\n",
    "            w = (min(Edges[i+1],redshifted1[n+1,k])-max(Edges[i],redshifted1[n,k]))*heaviside(redshifted1[n+1,k],Edges[i])*heaviside(Edges[i+1],redshifted1[n,k])/(Edges[i+1]-Edges[i])\n",
    "            windows.append(w)\n",
    "    \n",
    "windows = np.reshape(windows,(12,12,150))*(1+z['3'][None, None, :])\n",
    "\n",
    "for i, w in enumerate(windows[7]):\n",
    "    plt.plot(z['3'], w, label=f'{i}')\n",
    "plt.legend()\n"
   ]
  },
  {
   "cell_type": "code",
   "execution_count": null,
   "id": "188b11d5",
   "metadata": {},
   "outputs": [],
   "source": [
    "cosmo = ccl.Cosmology(Omega_c=0.27, Omega_b=0.045, h=0.67, sigma8=0.83, n_s=0.96) #need to make a K(z) function\n",
    "k_arr = np.geomspace(1e-4,100,256)\n",
    "a = 1./(1+z['3']) \n",
    "a_arr = a[::-1]\n",
    "chi = ccl.comoving_radial_distance(cosmo,a_arr)[::-1]"
   ]
  },
  {
   "cell_type": "code",
   "execution_count": null,
   "id": "d066e040",
   "metadata": {},
   "outputs": [],
   "source": [
    "# We will use a mass definition with Delta = 200 times the matter density\n",
    "hmd_200c = ccl.halos.MassDef200c() \n",
    "\n",
    "# The Duffy 2008 concentration-mass relation\n",
    "cM = ccl.halos.ConcentrationDuffy08(hmd_200c)\n",
    "\n",
    "# The Tinker 2008 mass function\n",
    "nM = ccl.halos.MassFuncTinker08(cosmo, mass_def=hmd_200c)\n",
    "\n",
    "# The Tinker 2010 halo bias\n",
    "bM = ccl.halos.HaloBiasTinker10(cosmo, mass_def=hmd_200c)\n",
    "\n",
    "# The NFW profile to characterize the matter density around halos\n",
    "pM = ccl.halos.profiles.HaloProfileNFW(cM)\n",
    "\n",
    "hmc = ccl.halos.HMCalculator(cosmo, nM, bM, hmd_200c)\n",
    "pk_MxMf = ccl.halos.halomod_Pk2D(cosmo, hmc, pM, prof2=pM,\n",
    "                                 normprof1=True, normprof2=True,\n",
    "                                 lk_arr=np.log(k_arr), a_arr=a_arr)"
   ]
  },
  {
   "cell_type": "code",
   "execution_count": null,
   "id": "7e863d62",
   "metadata": {},
   "outputs": [],
   "source": [
    "#need to compute cl's for multiple galaxies. No need to compute new window function as window function only depends on z,\n",
    "#each galaxy is measured at the same z's anyways. Just need to find cl theory for each galaxy. Can reorganise the cl theory and \n",
    "#cl data to match up so that we can now calculate the vectors and matrices needed to get F \n",
    "\n",
    "\n",
    "\n",
    "bias = np.array([1.182,1.086,1.126,1.144,1.206,1.548])\n",
    "mean_z = np.array([0.075,0.125,0.175,0.225,0.275,0.325])\n",
    "\n",
    "\n",
    "rho_x = ccl.background.rho_x(cosmo,1,'matter',is_comoving = True)\n",
    "omega_x = ccl.background.omega_x(cosmo,1,'matter')\n",
    "\n",
    "C = (rho_x*omega_x)/(4*np.pi*(1+z['3']))\n",
    "\n",
    "\n",
    "################ GALAXY TRACER ###############################\n",
    "\n",
    "t_g = []\n",
    "for gal in range(0,6):\n",
    "    t_gal = ccl.NumberCountsTracer(cosmo, has_rsd = False, dndz=(z[f'{gal}'],dndz[f'{gal}']), bias=((mean_z, bias)))\n",
    "    t_g.append(t_gal)\n",
    "    \n",
    "galtracer = np.array(t_g)\n",
    "\n",
    "\n",
    "######### GRB TRACER ########################################\n",
    "\n",
    "\n",
    "cl_th = np.zeros([6, 12, 12, 24])\n",
    "for ig, g in enumerate(galtracer):\n",
    "    for i in range(12):\n",
    "        for j in range(12):\n",
    "            GRB_tracer = ccl.Tracer()\n",
    "            GRB_tracer.add_tracer(cosmo, kernel=(chi, C*windows[i, j]))\n",
    "            cl_theoretical = ccl.angular_cl(cosmo, g, GRB_tracer, ells, p_of_k_a= pk_MxMf)\n",
    "            cl_th[ig, i, j, :] = cl_theoretical\n",
    "\n",
    "#C_{l}^{g,i} = \\sum_{n}F_{n}C_{l}^{g,i,n}\n",
    "#the shape of cl_th goes as (x,y,z,m) where x corresponds to the gth index of the galaxy redshift bins, i.e there are 6 g's\n",
    "# the yth index corresponds the the ith index for the gamma ray energy bins. The ith index comes before the yth index because of how the loops run.\n",
    "#if the loops ran with gam_kernel first then gal_tracer then the it would be (y,x,z,m)\n",
    "#There are 12 energy bins. so for each galaxy redshift bin there are 12 corresponding \n",
    "#gamma ray energy bins, and for each of these energy bins, there will be the nth index running over 12 energy bins. This nth index corresponds to the summation of F.\n",
    "# to put it simply, we sum over 12 n's for each i and g.\n",
    "# there are 24 l's for each of the n's. "
   ]
  },
  {
   "cell_type": "code",
   "execution_count": null,
   "id": "9ef0a075",
   "metadata": {},
   "outputs": [],
   "source": [
    "A_matrix = np.zeros([6, 12, 12])\n",
    "ecl = np.array([[all_jackerrors[f'jkerr{g}x{i}'] for i in range(12)] for g in range(6)])\n",
    "data_cl  = np.array([[all_pcl[f'galaxy x gamma:{g}x{i}']for i in range(12)]for g in range(6)])\n",
    "\n",
    "for g in range(6):\n",
    "    for n in range(12):\n",
    "        for m in range(12):\n",
    "            A_matrix[g, n, m] = np.sum(cl_th[g,:,n,:]*cl_th[g,:,m,:]/ecl[g, :, :]**2) \n",
    "\n",
    "            \n",
    "def check_posdef(x):\n",
    "    return np.all(np.linalg.eigvals(x) > 0)\n",
    "\n",
    "check_posdef(A_matrix[0])\n",
    "\n",
    "b = np.zeros([6,12])\n",
    "\n",
    "for g in range(6):\n",
    "    for n in range(12):\n",
    "        b[g,n] = np.sum(cl_th[g,:,n,:]*data_cl[g,:,:]/ecl[g,:,:]**2)\n",
    "\n",
    "F = np.zeros([6,12])\n",
    "for g in range(6):\n",
    "    F[g] = np.linalg.solve(A_matrix[g],b[g])\n",
    "\n",
    "bestcl = np.zeros([6,12,24])\n",
    "for g in range(6):\n",
    "    for i in range(12):\n",
    "        for el in range(24):\n",
    "            bestcl[g,i,el] = np.sum(F[g,:]*cl_th[g,i,:,el])\n",
    "print(F[4])"
   ]
  },
  {
   "cell_type": "code",
   "execution_count": null,
   "id": "4677cf99",
   "metadata": {},
   "outputs": [],
   "source": [
    "print(A_matrix.shape)\n",
    "print(b.shape)\n",
    "\n",
    "b_comb = np.sum(b, axis = 0)\n",
    "A_comb = np.sum(A_matrix, axis = 0)\n",
    "F_comb = np.linalg.solve(A_comb,b_comb)\n",
    "F_cov2 = np.linalg.inv(A_comb)\n",
    "\n",
    "\n"
   ]
  },
  {
   "cell_type": "code",
   "execution_count": null,
   "id": "de5ab1f8",
   "metadata": {
    "scrolled": false
   },
   "outputs": [],
   "source": [
    "def get_r(cov):\n",
    "    return cov/np.sqrt(np.outer(np.diag(cov),np.diag(cov)))\n",
    "\n",
    "for i in range(6):\n",
    "    plt.figure()\n",
    "    #plt.imshow(get_r(np.linalg.inv(A_matrix[i])))\n",
    "    plt.imshow(get_r(A_matrix[i]))\n",
    "    plt.colorbar()\n",
    "plt.figure()\n",
    "plt.imshow(get_r(A_comb))\n",
    "plt.colorbar()"
   ]
  },
  {
   "cell_type": "code",
   "execution_count": null,
   "id": "1fb8e8a9",
   "metadata": {},
   "outputs": [],
   "source": [
    "plt.imshow(get_r(np.linalg.inv(A_comb)))\n"
   ]
  },
  {
   "cell_type": "code",
   "execution_count": null,
   "id": "46d898b8",
   "metadata": {},
   "outputs": [],
   "source": [
    "w, e = np.linalg.eigh(A_comb)"
   ]
  },
  {
   "cell_type": "code",
   "execution_count": null,
   "id": "2e14a9cf",
   "metadata": {},
   "outputs": [],
   "source": [
    "w"
   ]
  },
  {
   "cell_type": "code",
   "execution_count": null,
   "id": "72f78d9e",
   "metadata": {},
   "outputs": [],
   "source": [
    "cov_F = np.linalg.inv(A_matrix)\n",
    "\n",
    "E_mean = np.exp(0.5*(np.log(Edges[1:])+np.log(Edges[:-1])))\n",
    "f = plt.figure()\n",
    "\n",
    "for i in range(6):\n",
    "    plt.errorbar(E_mean*(1+0.03*i), F[i]/np.sqrt(np.diag(cov_F[i])), yerr=np.ones(12), fmt='.', label=f'Bin {i}')\n",
    "\n",
    "plt.xscale('log')\n",
    "plt.legend()\n",
    "plt.plot(E_mean, np.zeros(12), 'k--')\n",
    "\n",
    "plt.errorbar(E_mean, F_comb/np.sqrt(np.diag(F_cov2)),yerr = np.ones(12), fmt = 'b.')\n",
    "\n",
    "\n",
    "\n",
    "\n",
    "\n",
    "f.set_figwidth(13)\n",
    "f.set_figheight(5)\n",
    "plt.xlabel('Mean Energy',fontsize = 12)\n",
    "plt.title('Decay')\n",
    "plt.ylabel(r'$\\frac{F}{\\sqrt{Cov(F)_{ii}}}$', fontsize = 18)\n",
    "plt.savefig('signoiseFdecay.jpg')"
   ]
  },
  {
   "cell_type": "code",
   "execution_count": null,
   "id": "1969bca2",
   "metadata": {},
   "outputs": [],
   "source": [
    "b_comb = np.sum(b, axis = 0)\n",
    "A_comb = np.sum(A_matrix, axis = 0)\n",
    "F_comb = np.linalg.solve(A_comb,b_comb)\n",
    "F_cov2 = np.linalg.inv(A_comb)\n",
    "\n",
    "plt.errorbar(E_mean, F_comb/np.sqrt(np.diag(F_cov2)),yerr = np.ones(12), fmt = 'b.')\n",
    "plt.xscale('log')\n",
    "plt.plot(E_mean, np.zeros(12),'k--')\n",
    "plt.xlabel('Mean energy [MeV]')\n",
    "plt.title('Decay')\n",
    "plt.savefig('CoaddedFDecay.jpg', dpi =300)\n"
   ]
  },
  {
   "cell_type": "code",
   "execution_count": null,
   "id": "e8c25a0b",
   "metadata": {},
   "outputs": [],
   "source": []
  },
  {
   "cell_type": "code",
   "execution_count": null,
   "id": "08f6c24e",
   "metadata": {},
   "outputs": [],
   "source": []
  }
 ],
 "metadata": {
  "kernelspec": {
   "display_name": "Python 3",
   "language": "python",
   "name": "python3"
  },
  "language_info": {
   "codemirror_mode": {
    "name": "ipython",
    "version": 3
   },
   "file_extension": ".py",
   "mimetype": "text/x-python",
   "name": "python",
   "nbconvert_exporter": "python",
   "pygments_lexer": "ipython3",
   "version": "3.6.9"
  }
 },
 "nbformat": 4,
 "nbformat_minor": 5
}
