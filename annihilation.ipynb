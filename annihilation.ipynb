{
 "cells": [
  {
   "cell_type": "code",
   "execution_count": 1,
   "id": "f40403b8",
   "metadata": {},
   "outputs": [],
   "source": [
    "import matplotlib.pyplot as plt\n",
    "import numpy as np \n",
    "import pyccl as ccl\n",
    "import os.path \n",
    "import math\n",
    "from os.path import exists as file_exists"
   ]
  },
  {
   "cell_type": "code",
   "execution_count": 2,
   "id": "32bc8ed9",
   "metadata": {},
   "outputs": [],
   "source": [
    "choose_file = []\n",
    "for i in range(0,6):\n",
    "    for j in range(0,12):\n",
    "        for filename in os.listdir('/mnt/zfsusers/anyabua/FermiX'):\n",
    "            if filename == \"W_galagam_\" + str(i)+\"x\"+str(j)+\".npz\":\n",
    "                choose_file.append(str(filename))\n",
    "data_files = np.reshape(choose_file,(6,12))\n",
    "\n",
    "ells = np.load(data_files[0][0])['ells']\n",
    "all_jackerrors = {f'jkerr{gal}x{gam}': np.squeeze(np.load(data_files[gal][gam])['jack_error']) for gal in range(6) for gam in range(12)} \n",
    "all_pcl = {f'galaxy x gamma:{gal}x{gam}': np.squeeze(np.load(data_files[gal][gam])['PCL_fskydivided']) for gal in range(6) for gam in range(12)} \n",
    "all_bpw = {f'bpw{gal}x{gam}': np.load(data_files[gal][gam])['bpw'] for gal in range(6) for gam in range(12)} \n",
    "all_JKCL = {f'JKCL{gal}x{gam}': np.load(data_files[gal][gam])['JKCL'] for gal in range(6) for gam in range(12)}"
   ]
  },
  {
   "cell_type": "code",
   "execution_count": 3,
   "id": "1a7d38d2",
   "metadata": {},
   "outputs": [],
   "source": [
    "z = {}\n",
    "dndz = {}\n",
    "for gal in range(0,6):\n",
    "    z[f'{gal}'], dndz[f'{gal}'] = np.loadtxt(f\"dndz_bin{gal}.txt\", unpack=True)"
   ]
  },
  {
   "cell_type": "code",
   "execution_count": 4,
   "id": "54b6d91f",
   "metadata": {},
   "outputs": [
    {
     "name": "stdout",
     "output_type": "stream",
     "text": [
      "13\n",
      "(21600,)\n",
      "(12, 12, 150)\n",
      "(12, 150)\n"
     ]
    }
   ],
   "source": [
    "Edges = [0, 1.00000000e+03, 1.73780083e+03, 3.01995172e+03,\n",
    " 5.24807460e+03, 8.31763771e+03, 1.58489319e+04, 2.29086765e+04,\n",
    " 3.98107171e+04, 7.58577575e+04, 1.20226443e+05, 3.31131121e+05,\n",
    " 10.00000000e+07]\n",
    "\n",
    "def heaviside(x,y):\n",
    "    return 1*(x>y)\n",
    "\n",
    "redshifted = []\n",
    "for i in Edges: \n",
    "    E_redshift = i/(1+z['3']) #make z = 0 to check bin \n",
    "    redshifted.append(E_redshift)\n",
    "\n",
    "\n",
    "\n",
    "#redshifted is now an array of an array of redshifted energies, where the dimension of \n",
    "#the array within the array is equal to the 13xdim(z) where 13 corresponds to the 13 energy edges. \n",
    "\n",
    "window = []\n",
    "print(len(Edges))\n",
    "\n",
    "for n in range(len(Edges)-1):\n",
    "    for i in range(len(Edges)-1):\n",
    "        for k in range(len(redshifted[0])):\n",
    "            window_function = (min(Edges[i+1],redshifted[n+1][k])-max(Edges[i],redshifted[n][k]))*heaviside(redshifted[n+1][k],Edges[i])*heaviside(Edges[i+1],redshifted[n][k])\n",
    "            W = window_function/(Edges[i+1]-Edges[i])\n",
    "            window.append(W)\n",
    "            \n",
    "            \n",
    "print(np.shape(window))\n",
    "\n",
    "#for np.reshape(window,(x,y,z)) the x represents the ith index ranging from 0 to 11, the y represents the nth index ranging from 0 to 11\n",
    "#and the z represents the 150 values of z for each n \n",
    "windows = np.reshape(window,(12,12,150))\n",
    "print(windows.shape)\n",
    "print(windows[0].shape)\n",
    "#print(windows)\n"
   ]
  },
  {
   "cell_type": "code",
   "execution_count": 5,
   "id": "5074f2a2",
   "metadata": {},
   "outputs": [],
   "source": [
    "from scipy.special import sici\n",
    "\n",
    "cosmo = ccl.Cosmology(Omega_c=0.27, Omega_b=0.045, h=0.67, sigma8=0.83, n_s=0.96) #need to make a K(z) function\n",
    "k_arr = np.geomspace(1E-4,100,256)\n",
    "a = 1./(1+z['3']) \n",
    "a_arr = a[::-1]\n",
    "chi = ccl.comoving_radial_distance(cosmo,a_arr)[::-1]\n",
    "\n",
    "\n",
    "# We will use a mass definition with Delta = 200 times the matter density\n",
    "hmd_200c = ccl.halos.MassDef200c() \n",
    "\n",
    "# The Duffy 2008 concentration-mass relation\n",
    "cM = ccl.halos.ConcentrationDuffy08(hmd_200c)\n",
    "\n",
    "# The Tinker 2008 mass function\n",
    "nM = ccl.halos.MassFuncTinker08(cosmo, mass_def=hmd_200c)\n",
    "\n",
    "# The Tinker 2010 halo bias\n",
    "bM = ccl.halos.HaloBiasTinker10(cosmo, mass_def=hmd_200c)\n",
    "\n",
    "# The NFW profile to characterize the matter density around halos\n",
    "pM = ccl.halos.profiles.HaloProfileNFW(cM)\n",
    "\n",
    "class DarkMatterAnnihilationProfile(ccl.halos.HaloProfile):\n",
    "    def __init__(self,c_M_relation):\n",
    "        self.cM = c_M_relation\n",
    "        super().__init__()\n",
    "        \n",
    "    def _get_cM(self, cosmo, M, a, mdef=None):\n",
    "        return self.cM.get_concentration(cosmo, M, a, mdef_other = mdef)\n",
    "    \n",
    "    def _fourier(self, cosmo, k , M , a , mass_def):\n",
    "        rho_matter = cosmo.rho_x(1., \"matter\", is_comoving=True)\n",
    "        M_use = np.atleast_1d(M)\n",
    "        k_use = np.atleast_1d(k)\n",
    "    \n",
    "        \n",
    "        R_M = mass_def.get_radius(cosmo, M_use, a) / a #comoving virial radius\n",
    "        c_M =self._get_cM(cosmo,M_use,a,mass_def)\n",
    "    \n",
    "        R_s = R_M / c_M\n",
    "        rho0 = M_use / (4 * np.pi * R_s**3*rho_matter**2)\n",
    "\n",
    "        q = k_use[None, :] * R_s[:, None]\n",
    "        \n",
    "        \n",
    "        Si_q, Ci_q = sici(q)\n",
    "        P1 = M_use /((np.log(1 + c_M) - c_M/ (1 + c_M))**2)\n",
    "        c_M = c_M[:, None]\n",
    "        Si_oneplusc, Ci_oneplusc = sici((1 + c_M) * q)\n",
    "        Si_qc, Ci_qc = sici(q*c_M)\n",
    "        \n",
    "        A = (rho0 * P1)[:, None] / q\n",
    "        \n",
    "        Si1 = Si_oneplusc - Si_q\n",
    "        Ci1 = Ci_oneplusc - Ci_q\n",
    "        \n",
    "        q_half = (1-(q**2)/2)\n",
    "        q_sixth = (q-(q**3)/6)\n",
    "        \n",
    "        Si_term = Si1*(q_half*np.cos(q)+ q_sixth*np.sin(q))\n",
    "        Ci_term = Ci1*(q_half*np.sin(q)-q_sixth*np.cos(q))\n",
    "        \n",
    "        sin_term = np.sin(q*c_M)*((6*(1 + c_M)**2 + 5 + 3*c_M - (q**2)*(1+c_M)**2)/(6*(1 + c_M)**3))\n",
    "        cos_term = q*np.cos(q*c_M)*(4 + 3*c_M)/(6*(1 + c_M)**2)\n",
    "      \n",
    "        prof = A*(Si_qc - Si_term + Ci_term - 2*q/3 + sin_term + cos_term)\n",
    "     \n",
    "        \n",
    "        if np.ndim(k) == 0:\n",
    "            prof = np.squeeze(prof, axis=-1)\n",
    "        if np.ndim(M) == 0:\n",
    "            prof = np.squeeze(prof, axis=0)\n",
    "    \n",
    "        return prof\n",
    "        \n",
    "                           \n",
    "\n",
    "pDM = DarkMatterAnnihilationProfile(cM)\n",
    "\n",
    "\n",
    "hmc = ccl.halos.HMCalculator(cosmo, nM, bM, hmd_200c)\n",
    "pk_DMxMf = ccl.halos.halomod_Pk2D(cosmo, hmc, pDM, prof2=pM,\n",
    "                                  normprof1=True, normprof2=True,\n",
    "                                  lk_arr=np.log(k_arr), a_arr=a_arr)\n",
    "pk_MxMf = ccl.halos.halomod_Pk2D(cosmo, hmc, pM, prof2=pM,\n",
    "                                 normprof1=True, normprof2=True,\n",
    "                                 lk_arr=np.log(k_arr), a_arr=a_arr)"
   ]
  },
  {
   "cell_type": "code",
   "execution_count": 6,
   "id": "b987cd73",
   "metadata": {},
   "outputs": [],
   "source": [
    "#need to compute cl's for multiple galaxies. No need to compute new window function as window function only depends on z,\n",
    "#each galaxy is measured at the same z's anyways. Just need to find cl theory for each galaxy. Can reorganise the cl theory and \n",
    "#cl data to match up so that we can now calculate the vectors and matrices needed to get F \n",
    "\n",
    "\n",
    "################ GALAXY TRACER ###############################\n",
    "\n",
    "t_g = []\n",
    "for gal in range(0,6):\n",
    "    t_gal = ccl.NumberCountsTracer(cosmo, has_rsd = False, dndz=(z[f'{gal}'],dndz[f'{gal}']), bias=(z[f'{gal}'], np.ones_like(z[f'{gal}'])))\n",
    "    t_g.append(t_gal)\n",
    "    \n",
    "galtracer = np.array(t_g)\n",
    "#print(galtracer.shape)\n",
    "\n",
    "######### GRB TRACER ########################################\n",
    "\n",
    "\n",
    "\n",
    "#print(gam_kernel[143])\n",
    "#print(gam_kernel.shape)\n",
    "\n",
    "cl_th = np.zeros([6, 12, 12, 24])\n",
    "for ig, g in enumerate(galtracer):\n",
    "    for i in range(12):\n",
    "        for j in range(12):\n",
    "            GRB_tracer = ccl.Tracer()\n",
    "            GRB_tracer.add_tracer(cosmo, kernel=(chi, windows[i, j]))\n",
    "            cl_theoretical = ccl.angular_cl(cosmo, g, GRB_tracer, ells, p_of_k_a=pk_DMxMf)\n",
    "            cl_th[ig, i, j, :] = cl_theoretical\n",
    "\n",
    "#C_{l}^{g,i} = \\sum_{n}F_{n}C_{l}^{g,i,n}\n",
    "#the shape of cl_th goes as (x,y,z,m) where x corresponds to the gth index of the galaxy redshift bins, i.e there are 6 g's\n",
    "# the yth index corresponds the the ith index for the gamma ray energy bins. The ith index comes before the yth index because of how the loops run.\n",
    "#if the loops ran with gam_kernel first then gal_tracer then the it would be (y,x,z,m)\n",
    "#There are 12 energy bins. so for each galaxy redshift bin there are 12 corresponding \n",
    "#gamma ray energy bins, and for each of these energy bins, there will be the nth index running over 12 energy bins. This nth index corresponds to the summation of F.\n",
    "# to put it simply, we sum over 12 n's for each i and g.\n",
    "# there are 24 l's for each of the n's. \n",
    "\n",
    "\n"
   ]
  },
  {
   "cell_type": "code",
   "execution_count": 7,
   "id": "e18f04bf",
   "metadata": {},
   "outputs": [
    {
     "name": "stdout",
     "output_type": "stream",
     "text": [
      "[ 1.54199208e-10 -3.90020148e-12 -2.60025074e-12  1.86102861e-11\n",
      "  9.10897176e-13  3.29949181e-12 -3.22431104e-12  6.43115128e-12\n",
      " -3.55997528e-12  4.96549126e-12 -4.02389068e-12  1.76961626e-12]\n"
     ]
    }
   ],
   "source": [
    "A_matrix = np.zeros([6, 12, 12])\n",
    "ecl = np.array([[all_jackerrors[f'jkerr{g}x{i}'] for i in range(12)] for g in range(6)])\n",
    "data_cl  = np.array([[all_pcl[f'galaxy x gamma:{g}x{i}']for i in range(12)]for g in range(6)])\n",
    "\n",
    "for g in range(6):\n",
    "    for n in range(12):\n",
    "        for m in range(12):\n",
    "            A_matrix[g, n, m] = np.sum(cl_th[g,:,n,:]*cl_th[g,:,m,:]/ecl[g, :, :]**2) \n",
    "\n",
    "            \n",
    "            \n",
    "            \n",
    "def check_posdef(x):\n",
    "    return np.all(np.linalg.eigvals(x) > 0)\n",
    "\n",
    "check_posdef(A_matrix[0])\n",
    "\n",
    "\n",
    "\n",
    "b = np.zeros([6,12])\n",
    "\n",
    "for g in range(6):\n",
    "    for n in range(12):\n",
    "        b[g,n] = np.sum(cl_th[g,:,n,:]*data_cl[g,:,:]/ecl[g,:,:]**2)\n",
    "\n",
    "#print(b[1])\n",
    "\n",
    "F = np.zeros([6,12])\n",
    "for g in range(6):\n",
    "    F[g] = np.linalg.solve(A_matrix[g],b[g])\n",
    "\n",
    "bestcl = np.zeros([6,12,24])\n",
    "for g in range(6):\n",
    "    for i in range(12):\n",
    "        for el in range(24):\n",
    "            bestcl[g,i,el] = np.sum(F[g,:]*cl_th[g,i,:,el])\n",
    "print(F[4])"
   ]
  },
  {
   "cell_type": "code",
   "execution_count": 8,
   "id": "b77bf54e",
   "metadata": {},
   "outputs": [
    {
     "name": "stderr",
     "output_type": "stream",
     "text": [
      "/usr/local/lib/python3.6/dist-packages/ipykernel_launcher.py:3: RuntimeWarning: divide by zero encountered in log\n",
      "  This is separate from the ipykernel package so we can avoid doing imports until\n"
     ]
    },
    {
     "data": {
      "text/plain": [
       "Text(0.5,1,'Annihilation')"
      ]
     },
     "execution_count": 8,
     "metadata": {},
     "output_type": "execute_result"
    },
    {
     "data": {
      "image/png": "[encoded data removed]",
      "text/plain": [
       "<matplotlib.figure.Figure at 0x7f38e84b8c50>"
      ]
     },
     "metadata": {
      "needs_background": "light"
     },
     "output_type": "display_data"
    }
   ],
   "source": [
    "cov_F = np.linalg.inv(A_matrix)\n",
    "\n",
    "E_mean = np.exp(0.5*(np.log(Edges[1:])+np.log(Edges[:-1])))\n",
    "f = plt.figure()\n",
    "\n",
    "for i in range(6):\n",
    "    plt.errorbar(E_mean*(1+0.03*i), F[i]/np.sqrt(np.diag(cov_F[i])), yerr=np.ones(12), fmt='.', label=f'Bin {i}')\n",
    "\n",
    "plt.xscale('log')\n",
    "plt.legend()\n",
    "plt.plot(E_mean, np.zeros(12), 'k--')\n",
    "\n",
    "f.set_figwidth(13)\n",
    "f.set_figheight(5)\n",
    "plt.xlabel('Mean Energy',fontsize = 12)\n",
    "plt.title('Annihilation')"
   ]
  },
  {
   "cell_type": "code",
   "execution_count": 9,
   "id": "7b99df58",
   "metadata": {},
   "outputs": [
    {
     "name": "stdout",
     "output_type": "stream",
     "text": [
      "this is b\n",
      "(6, 12)\n",
      "this is A\n",
      "(6, 12, 12)\n",
      "(6, 12)\n"
     ]
    }
   ],
   "source": [
    "print('this is b')\n",
    "print(b.shape)\n",
    "print('this is A')\n",
    "print(A_matrix.shape)\n",
    "print(F.shape)"
   ]
  },
  {
   "cell_type": "code",
   "execution_count": 10,
   "id": "30bd1171",
   "metadata": {},
   "outputs": [],
   "source": [
    "#coadd\n",
    "b_comb = np.sum(b, axis = 0)\n",
    "\n",
    "A_comb = np.sum(A_matrix, axis = 0)"
   ]
  },
  {
   "cell_type": "code",
   "execution_count": 11,
   "id": "be14cdf8",
   "metadata": {},
   "outputs": [
    {
     "name": "stdout",
     "output_type": "stream",
     "text": [
      "[ 2.01474445e-11 -2.84836813e-12  5.84763303e-12  8.91527125e-12\n",
      "  3.84222767e-12  1.39622091e-12  1.27729308e-12  1.12000138e-12\n",
      "  7.75496138e-13  2.22878827e-13  1.25982124e-13 -1.06420566e-13]\n",
      "3.725807325896871e-23\n"
     ]
    },
    {
     "data": {
      "image/png": "[encoded data removed]",
      "text/plain": [
       "<matplotlib.figure.Figure at 0x7f38e4f34b00>"
      ]
     },
     "metadata": {
      "needs_background": "light"
     },
     "output_type": "display_data"
    }
   ],
   "source": [
    "#print(b_comb)\n",
    "#print(A_comb)\n",
    "\n",
    "F_comb = np.linalg.solve(A_comb,b_comb)\n",
    "F_cov2 = np.linalg.inv(A_comb)\n",
    "print(F_comb)\n",
    "print(np.cov(F_comb))\n",
    "for i in range(12):\n",
    "    plt.errorbar(E_mean, F_comb/np.sqrt(np.diag(F_cov2)), yerr=np.ones(12), fmt='b.')\n",
    "plt.xscale('log')\n",
    "plt.plot(E_mean, np.zeros(12), 'k--')\n",
    "plt.xlabel('Mean Energy (GeV)')\n",
    "plt.title('Annihilation')\n",
    "plt.savefig('CoaddedFAnnihilation.jpg', dpi = 300)"
   ]
  },
  {
   "cell_type": "code",
   "execution_count": null,
   "id": "de680bae",
   "metadata": {},
   "outputs": [],
   "source": []
  },
  {
   "cell_type": "code",
   "execution_count": null,
   "id": "a0476b14",
   "metadata": {},
   "outputs": [],
   "source": []
  }
 ],
 "metadata": {
  "kernelspec": {
   "display_name": "Python 3",
   "language": "python",
   "name": "python3"
  },
  "language_info": {
   "codemirror_mode": {
    "name": "ipython",
    "version": 3
   },
   "file_extension": ".py",
   "mimetype": "text/x-python",
   "name": "python",
   "nbconvert_exporter": "python",
   "pygments_lexer": "ipython3",
   "version": "3.6.9"
  }
 },
 "nbformat": 4,
 "nbformat_minor": 5
}
