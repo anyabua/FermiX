{
 "cells": [
  {
   "cell_type": "code",
   "execution_count": 1,
   "id": "f40403b8",
   "metadata": {},
   "outputs": [],
   "source": [
    "import matplotlib.pyplot as plt\n",
    "import numpy as np \n",
    "import pyccl as ccl\n",
    "import os.path \n",
    "import math\n",
    "from os.path import exists as file_exists"
   ]
  },
  {
   "cell_type": "code",
   "execution_count": 2,
   "id": "32bc8ed9",
   "metadata": {},
   "outputs": [],
   "source": [
    "choose_file = []\n",
    "for i in range(0,6):\n",
    "    for j in range(0,12):\n",
    "        for filename in os.listdir('/mnt/zfsusers/anyabua/FermiX'):\n",
    "            if filename == \"W_galagam_\" + str(i)+\"x\"+str(j)+\".npz\":\n",
    "                choose_file.append(str(filename))\n",
    "data_files = np.reshape(choose_file,(6,12))\n",
    "\n",
    "ells = np.load(data_files[0][0])['ells']\n",
    "all_jackerrors = {f'jkerr{gal}x{gam}': np.squeeze(np.load(data_files[gal][gam])['jack_error']) for gal in range(6) for gam in range(12)} \n",
    "all_pcl = {f'galaxy x gamma:{gal}x{gam}': np.squeeze(np.load(data_files[gal][gam])['PCL_fskydivided']) for gal in range(6) for gam in range(12)} \n",
    "all_bpw = {f'bpw{gal}x{gam}': np.load(data_files[gal][gam])['bpw'] for gal in range(6) for gam in range(12)} \n",
    "all_JKCL = {f'JKCL{gal}x{gam}': np.load(data_files[gal][gam])['JKCL'] for gal in range(6) for gam in range(12)}"
   ]
  },
  {
   "cell_type": "code",
   "execution_count": 3,
   "id": "1a7d38d2",
   "metadata": {},
   "outputs": [],
   "source": [
    "z = {}\n",
    "dndz = {}\n",
    "for gal in range(0,6):\n",
    "    z[f'{gal}'], dndz[f'{gal}'] = np.loadtxt(f\"dndz_bin{gal}.txt\", unpack=True)"
   ]
  },
  {
   "cell_type": "code",
   "execution_count": 4,
   "id": "54b6d91f",
   "metadata": {},
   "outputs": [
    {
     "data": {
      "text/plain": [
       "<matplotlib.legend.Legend at 0x7f0b7f6df8d0>"
      ]
     },
     "execution_count": 4,
     "metadata": {},
     "output_type": "execute_result"
    },
    {
     "data": {
      "image/png": "[encoded data removed]",
      "text/plain": [
       "<matplotlib.figure.Figure at 0x7f0b876f7320>"
      ]
     },
     "metadata": {
      "needs_background": "light"
     },
     "output_type": "display_data"
    }
   ],
   "source": [
    "Edges = np.array([5.24807460e+02, 1.00000000e+03, 1.73780083e+03, 3.01995172e+03,\n",
    " 5.24807460e+03, 8.31763771e+03, 1.58489319e+04, 2.29086765e+04,\n",
    " 3.98107171e+04, 7.58577575e+04, 1.20226443e+05, 3.31131121e+05,\n",
    " 1.00000000e+06])\n",
    "\n",
    "def heaviside(x,y):\n",
    "    return 1*(x>y)\n",
    "\n",
    "z_4test = np.ones((150))\n",
    "\n",
    "redshifted1 = np.zeros((13,150))\n",
    "for i in range(13):\n",
    "    redshifted1[i] = Edges[i]/(1+z['3']) #z_4test #\n",
    "\n",
    "\n",
    "#redshifted is now an array of an array of redshifted energies, where the dimension of \n",
    "#the array within the array is equal to the 13xdim(z) where 13 corresponds to the 13 energy edges. \n",
    "\n",
    "\n",
    "\n",
    "windows = []\n",
    "\n",
    "for n in range(12):\n",
    "    for i in range(12):\n",
    "        for k in range(150):\n",
    "            w = (min(Edges[i+1],redshifted1[n+1,k])-max(Edges[i],redshifted1[n,k]))*heaviside(redshifted1[n+1,k],Edges[i])*heaviside(Edges[i+1],redshifted1[n,k])#/(Edges[i+1]-Edges[i])\n",
    "            windows.append(w)\n",
    "    \n",
    "windows = np.reshape(windows,(12,12,150))\n",
    "\n",
    "for i, w in enumerate(windows[8]):\n",
    "    plt.plot(z['3'], w, label=f'{i}')\n",
    "plt.legend()\n"
   ]
  },
  {
   "cell_type": "code",
   "execution_count": 5,
   "id": "5074f2a2",
   "metadata": {},
   "outputs": [],
   "source": [
    "from scipy.special import sici\n",
    "\n",
    "cosmo = ccl.Cosmology(Omega_c=0.27, Omega_b=0.045, h=0.67, sigma8=0.83, n_s=0.96) #need to make a K(z) function\n",
    "k_arr = np.geomspace(1E-4,100,256)\n",
    "a = 1./(1+z['3']) \n",
    "a_arr = a[::-1]\n",
    "chi = ccl.comoving_radial_distance(cosmo,a_arr)[::-1]\n",
    "\n",
    "\n",
    "# We will use a mass definition with Delta = 200 times the matter density\n",
    "hmd_200c = ccl.halos.MassDef200c() \n",
    "\n",
    "# The Duffy 2008 concentration-mass relation\n",
    "cM = ccl.halos.ConcentrationDuffy08(hmd_200c)\n",
    "\n",
    "# The Tinker 2008 mass function\n",
    "nM = ccl.halos.MassFuncTinker08(cosmo, mass_def=hmd_200c)\n",
    "\n",
    "# The Tinker 2010 halo bias\n",
    "bM = ccl.halos.HaloBiasTinker10(cosmo, mass_def=hmd_200c)\n",
    "\n",
    "# The NFW profile to characterize the matter density around halos\n",
    "pM = ccl.halos.profiles.HaloProfileNFW(cM)\n",
    "\n",
    "class DarkMatterAnnihilationProfile(ccl.halos.HaloProfile):\n",
    "    def __init__(self,c_M_relation):\n",
    "        self.cM = c_M_relation\n",
    "        super().__init__()\n",
    "        \n",
    "    def _get_cM(self, cosmo, M, a, mdef=None):\n",
    "        return self.cM.get_concentration(cosmo, M, a, mdef_other = mdef)\n",
    "    \n",
    "    def _fourier(self, cosmo, k , M , a , mass_def):\n",
    "        rho_matter = cosmo.rho_x(1., \"matter\", is_comoving=True)\n",
    "        M_use = np.atleast_1d(M)\n",
    "        k_use = np.atleast_1d(k)\n",
    "    \n",
    "        \n",
    "        R_M = mass_def.get_radius(cosmo, M_use, a) / a #comoving virial radius\n",
    "        c_M =self._get_cM(cosmo,M_use,a,mass_def)\n",
    "    \n",
    "        R_s = R_M / c_M\n",
    "        rho0 = M_use / (4 * np.pi * R_s**3*rho_matter**2)\n",
    "\n",
    "        q = k_use[None, :] * R_s[:, None]\n",
    "        \n",
    "        \n",
    "        Si_q, Ci_q = sici(q)\n",
    "        P1 = M_use /((np.log(1 + c_M) - c_M/ (1 + c_M))**2)\n",
    "        c_M = c_M[:, None]\n",
    "        Si_oneplusc, Ci_oneplusc = sici((1 + c_M) * q)\n",
    "        Si_qc, Ci_qc = sici(q*c_M)\n",
    "        \n",
    "        A = (rho0 * P1)[:, None] / q\n",
    "        \n",
    "        Si1 = Si_oneplusc - Si_q\n",
    "        Ci1 = Ci_oneplusc - Ci_q\n",
    "        \n",
    "        q_half = (1-(q**2)/2)\n",
    "        q_sixth = (q-(q**3)/6)\n",
    "        \n",
    "        Si_term = Si1*(q_half*np.cos(q)+ q_sixth*np.sin(q))\n",
    "        Ci_term = Ci1*(q_half*np.sin(q)-q_sixth*np.cos(q))\n",
    "        \n",
    "        sin_term = np.sin(q*c_M)*((6*(1 + c_M)**2 + 5 + 3*c_M - (q**2)*(1+c_M)**2)/(6*(1 + c_M)**3))\n",
    "        cos_term = q*np.cos(q*c_M)*(4 + 3*c_M)/(6*(1 + c_M)**2)\n",
    "      \n",
    "        prof = A*(Si_qc - Si_term + Ci_term - 2*q/3 + sin_term + cos_term)\n",
    "     \n",
    "        \n",
    "        if np.ndim(k) == 0:\n",
    "            prof = np.squeeze(prof, axis=-1)\n",
    "        if np.ndim(M) == 0:\n",
    "            prof = np.squeeze(prof, axis=0)\n",
    "    \n",
    "        return prof\n",
    "        \n",
    "                           \n",
    "\n",
    "pDM = DarkMatterAnnihilationProfile(cM)\n",
    "\n",
    "\n",
    "hmc = ccl.halos.HMCalculator(cosmo, nM, bM, hmd_200c)\n",
    "pk_DMxMf = ccl.halos.halomod_Pk2D(cosmo, hmc, pDM, prof2= pM,\n",
    "                                  normprof1=True, normprof2=True,\n",
    "                                  lk_arr=np.log(k_arr), a_arr=a_arr)\n",
    "pk_MxMf = ccl.halos.halomod_Pk2D(cosmo, hmc, pM, prof2=pM,\n",
    "                                 normprof1=True, normprof2=True,\n",
    "                                 lk_arr=np.log(k_arr), a_arr=a_arr)"
   ]
  },
  {
   "cell_type": "code",
   "execution_count": 6,
   "id": "b987cd73",
   "metadata": {},
   "outputs": [],
   "source": [
    "#need to compute cl's for multiple galaxies. No need to compute new window function as window function only depends on z,\n",
    "#each galaxy is measured at the same z's anyways. Just need to find cl theory for each galaxy. Can reorganise the cl theory and \n",
    "#cl data to match up so that we can now calculate the vectors and matrices needed to get F \n",
    "\n",
    "\n",
    "bias = np.array([1.182,1.086,1.126,1.144,1.206,1.548])\n",
    "mean_z = np.array([0.075,0.125,0.175,0.225,0.275,0.325])\n",
    "\n",
    "\n",
    "rho_x = ccl.background.rho_x(cosmo,1,'matter',is_comoving = True)\n",
    "#omega_x = ccl.background.omega_x(cosmo,1,'matter')\n",
    "\n",
    "C = (rho_x*(1+z['3']))**2/(8*np.pi)\n",
    "\n",
    "\n",
    "################ GALAXY TRACER ###############################\n",
    "\n",
    "t_g = []\n",
    "for gal in range(0,6):\n",
    "    t_gal = ccl.NumberCountsTracer(cosmo, has_rsd = False, dndz=(z[f'{gal}'],dndz[f'{gal}']), bias=(mean_z, bias))\n",
    "    t_g.append(t_gal)\n",
    "    \n",
    "galtracer = np.array(t_g)\n",
    "#print(galtracer.shape)\n",
    "\n",
    "######### GRB TRACER ########################################\n",
    "\n",
    "\n",
    "\n",
    "#print(gam_kernel[143])\n",
    "#print(gam_kernel.shape)\n",
    "\n",
    "cl_th = np.zeros([6, 12, 12, 24])\n",
    "for ig, g in enumerate(galtracer):\n",
    "    for i in range(12):\n",
    "        for j in range(12):\n",
    "            GRB_tracer = ccl.Tracer()\n",
    "            GRB_tracer.add_tracer(cosmo, kernel=(chi, C*windows[i, j]))\n",
    "            cl_theoretical = ccl.angular_cl(cosmo, g, GRB_tracer, ells, p_of_k_a=pk_DMxMf)\n",
    "            cl_th[ig, i, j, :] = cl_theoretical\n",
    "\n",
    "#C_{l}^{g,i} = \\sum_{n}F_{n}C_{l}^{g,i,n}\n",
    "#the shape of cl_th goes as (x,y,z,m) where x corresponds to the gth index of the galaxy redshift bins, i.e there are 6 g's\n",
    "# the yth index corresponds the the ith index for the gamma ray energy bins. The ith index comes before the yth index because of how the loops run.\n",
    "#if the loops ran with gam_kernel first then gal_tracer then the it would be (y,x,z,m)\n",
    "#There are 12 energy bins. so for each galaxy redshift bin there are 12 corresponding \n",
    "#gamma ray energy bins, and for each of these energy bins, there will be the nth index running over 12 energy bins. This nth index corresponds to the summation of F.\n",
    "# to put it simply, we sum over 12 n's for each i and g.\n",
    "# there are 24 l's for each of the n's. \n",
    "\n",
    "\n"
   ]
  },
  {
   "cell_type": "code",
   "execution_count": 7,
   "id": "e18f04bf",
   "metadata": {},
   "outputs": [
    {
     "name": "stdout",
     "output_type": "stream",
     "text": [
      "[ 1.40953991e-33 -7.90249169e-35  3.44705516e-36  5.71962446e-35\n",
      "  6.74162231e-36  1.54656729e-36 -9.08798206e-37  1.53156493e-36\n",
      " -2.07766628e-37  4.28415164e-37 -7.31881741e-38  1.29538618e-38]\n"
     ]
    }
   ],
   "source": [
    "A_matrix = np.zeros([6, 12, 12])\n",
    "ecl = np.array([[all_jackerrors[f'jkerr{g}x{i}'] for i in range(12)] for g in range(6)])\n",
    "data_cl  = np.array([[all_pcl[f'galaxy x gamma:{g}x{i}']for i in range(12)]for g in range(6)])\n",
    "\n",
    "for g in range(6):\n",
    "    for n in range(12):\n",
    "        for m in range(12):\n",
    "            A_matrix[g, n, m] = np.sum(cl_th[g,:,n,:]*cl_th[g,:,m,:]/(ecl[g, :, :]**2)) \n",
    "\n",
    "            \n",
    "            \n",
    "            \n",
    "def check_posdef(x):\n",
    "    return np.all(np.linalg.eigvals(x) > 0)\n",
    "\n",
    "check_posdef(A_matrix[0])\n",
    "\n",
    "\n",
    "\n",
    "b = np.zeros([6,12])\n",
    "\n",
    "for g in range(6):\n",
    "    for n in range(12):\n",
    "        b[g,n] = np.sum(cl_th[g,:,n,:]*data_cl[g,:,:]/(ecl[g,:,:]**2))\n",
    "\n",
    "#print(b[1])\n",
    "\n",
    "F = np.zeros([6,12])\n",
    "for g in range(6):\n",
    "    F[g] = np.linalg.solve(A_matrix[g],b[g])\n",
    "\n",
    "bestcl = np.zeros([6,12,24])\n",
    "for g in range(6):\n",
    "    for i in range(12):\n",
    "        for el in range(24):\n",
    "            bestcl[g,i,el] = np.sum(F[g,:]*cl_th[g,i,:,el])\n",
    "print(F[4])"
   ]
  },
  {
   "cell_type": "code",
   "execution_count": 8,
   "id": "79727969",
   "metadata": {},
   "outputs": [],
   "source": [
    "b_comb = np.sum(b, axis = 0)\n",
    "A_comb = np.sum(A_matrix, axis = 0)\n",
    "F_comb = np.linalg.solve(A_comb,b_comb)\n",
    "F_cov2 = np.linalg.inv(A_comb)\n"
   ]
  },
  {
   "cell_type": "code",
   "execution_count": 9,
   "id": "b77bf54e",
   "metadata": {},
   "outputs": [
    {
     "data": {
      "image/png": "[encoded data removed]",
      "text/plain": [
       "<matplotlib.figure.Figure at 0x7f0b7f5fe748>"
      ]
     },
     "metadata": {
      "needs_background": "light"
     },
     "output_type": "display_data"
    }
   ],
   "source": [
    "cov_F = np.linalg.inv(A_matrix)\n",
    "\n",
    "#E_mean = np.exp(0.5*(np.log(Edges[1:])+np.log(Edges[:-1])))\n",
    "f = plt.figure()\n",
    "#print(E_mean)\n",
    "\n",
    "\n",
    "geomE_mean = np.sqrt(np.array(Edges[1:])*np.array(Edges[:-1]))\n",
    "\n",
    "\n",
    "for i in range(6):\n",
    "    plt.errorbar(geomE_mean*(1+0.03*i), F[i]/np.sqrt(np.diag(cov_F[i])), yerr=np.ones(12), fmt='.', label=f'Bin {i}')\n",
    "    \n",
    "    \n",
    "for i in range(12):\n",
    "    plt.errorbar(geomE_mean, F_comb/np.sqrt(np.diag(F_cov2)), yerr=np.ones(12), fmt='b.')\n",
    "\n",
    "plt.xscale('log')\n",
    "plt.legend()\n",
    "plt.plot(geomE_mean, np.zeros(12), 'k--')\n",
    "\n",
    "f.set_figwidth(13)\n",
    "f.set_figheight(5)\n",
    "plt.xlabel('Mean Energy [MeV]',fontsize = 12)\n",
    "plt.title('Annihilation')\n",
    "plt.savefig('ann_plot.jpg')"
   ]
  },
  {
   "cell_type": "code",
   "execution_count": 10,
   "id": "7b99df58",
   "metadata": {},
   "outputs": [
    {
     "name": "stdout",
     "output_type": "stream",
     "text": [
      "this is b\n",
      "(6, 12)\n",
      "this is A\n",
      "(6, 12, 12)\n",
      "(6, 12)\n"
     ]
    }
   ],
   "source": [
    "print('this is b')\n",
    "print(b.shape)\n",
    "print('this is A')\n",
    "print(A_matrix.shape)\n",
    "print(F.shape)"
   ]
  },
  {
   "cell_type": "code",
   "execution_count": 11,
   "id": "30bd1171",
   "metadata": {},
   "outputs": [],
   "source": [
    "#coadd\n",
    "b_comb = np.sum(b, axis = 0)\n",
    "\n",
    "A_comb = np.sum(A_matrix, axis = 0)"
   ]
  },
  {
   "cell_type": "code",
   "execution_count": 12,
   "id": "be14cdf8",
   "metadata": {},
   "outputs": [
    {
     "name": "stdout",
     "output_type": "stream",
     "text": [
      "[ 4.65997226e-34 -3.60307272e-35  4.22766651e-35  4.05978313e-35\n",
      "  1.14282672e-35  1.47450095e-36  1.83427062e-36  5.60757553e-37\n",
      "  2.14441807e-37  3.40399998e-38  6.77641592e-39 -1.93512985e-39]\n",
      "1.8068828622181376e-68\n"
     ]
    },
    {
     "data": {
      "image/png": "[encoded data removed]",
      "text/plain": [
       "<matplotlib.figure.Figure at 0x7f0b6ff885c0>"
      ]
     },
     "metadata": {
      "needs_background": "light"
     },
     "output_type": "display_data"
    }
   ],
   "source": [
    "#print(b_comb)\n",
    "#print(A_comb)\n",
    "\n",
    "F_comb = np.linalg.solve(A_comb,b_comb)\n",
    "F_cov2 = np.linalg.inv(A_comb)\n",
    "print(F_comb)\n",
    "print(np.cov(F_comb))\n",
    "for i in range(12):\n",
    "    plt.errorbar(geomE_mean, F_comb/np.sqrt(np.diag(F_cov2)), yerr=np.ones(12), fmt='b.')\n",
    "plt.xscale('log')\n",
    "plt.plot(geomE_mean, np.zeros(12), 'k--')\n",
    "plt.xlabel('Mean Energy (GeV)')\n",
    "plt.title('Annihilation')\n",
    "plt.savefig('CoaddedFAnnihilation.jpg', dpi = 300)"
   ]
  },
  {
   "cell_type": "code",
   "execution_count": null,
   "id": "de680bae",
   "metadata": {},
   "outputs": [],
   "source": []
  },
  {
   "cell_type": "code",
   "execution_count": null,
   "id": "a0476b14",
   "metadata": {},
   "outputs": [],
   "source": []
  }
 ],
 "metadata": {
  "kernelspec": {
   "display_name": "Python 3",
   "language": "python",
   "name": "python3"
  },
  "language_info": {
   "codemirror_mode": {
    "name": "ipython",
    "version": 3
   },
   "file_extension": ".py",
   "mimetype": "text/x-python",
   "name": "python",
   "nbconvert_exporter": "python",
   "pygments_lexer": "ipython3",
   "version": "3.6.9"
  }
 },
 "nbformat": 4,
 "nbformat_minor": 5
}
